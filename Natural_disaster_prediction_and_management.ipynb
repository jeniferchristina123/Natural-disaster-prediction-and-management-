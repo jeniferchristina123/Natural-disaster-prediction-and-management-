{
  "nbformat": 4,
  "nbformat_minor": 0,
  "metadata": {
    "colab": {
      "provenance": [],
      "authorship_tag": "ABX9TyOYnJGSy3MLnECt+hx/VoQS",
      "include_colab_link": true
    },
    "kernelspec": {
      "name": "python3",
      "display_name": "Python 3"
    },
    "language_info": {
      "name": "python"
    }
  },
  "cells": [
    {
      "cell_type": "markdown",
      "metadata": {
        "id": "view-in-github",
        "colab_type": "text"
      },
      "source": [
        "<a href=\"https://colab.research.google.com/github/jeniferchristina123/Natural-disaster-prediction-and-management-/blob/main/Natural_disaster_prediction_and_management.ipynb\" target=\"_parent\"><img src=\"https://colab.research.google.com/assets/colab-badge.svg\" alt=\"Open In Colab\"/></a>"
      ]
    },
    {
      "cell_type": "code",
      "execution_count": null,
      "metadata": {
        "id": "D0xj3tVkpbyz"
      },
      "outputs": [],
      "source": [
        "\n",
        "import sqlite3\n",
        "import random\n",
        "import time\n",
        "\n",
        "# Create a database to store disaster reports\n",
        "def init_db():\n",
        "    conn = sqlite3.connect('disaster_mgmt.db')\n",
        "    c = conn.cursor()\n",
        "    c.execute('''CREATE TABLE IF NOT EXISTS disaster_reports (\n",
        "                    id INTEGER PRIMARY KEY,\n",
        "                    disaster_type TEXT,\n",
        "                    location TEXT,\n",
        "                    risk_level TEXT,\n",
        "                    timestamp TEXT\n",
        "                )''')\n",
        "    conn.commit()\n",
        "    conn.close()\n",
        "\n",
        "# Simulate incoming sensor data (mock)\n",
        "def get_sensor_data():\n",
        "    return {\n",
        "        \"earthquake_magnitude\": random.uniform(1.0, 9.0),\n",
        "        \"rainfall_mm\": random.randint(0, 300),\n",
        "        \"temperature_c\": random.randint(20, 45)\n",
        "    }\n",
        "\n",
        "# Rule-based prediction\n",
        "def predict_disaster(data):\n",
        "    if data[\"earthquake_magnitude\"] > 6.0:\n",
        "        return \"Earthquake\", \"High\"\n",
        "    elif data[\"rainfall_mm\"] > 200:\n",
        "        return \"Flood\", \"High\"\n",
        "    elif data[\"temperature_c\"] > 40:\n",
        "        return \"Heatwave\", \"Moderate\"\n",
        "    else:\n",
        "        return \"None\", \"Low\"\n",
        "\n",
        "# Insert report into DB\n",
        "def log_disaster(disaster_type, location, risk_level):\n",
        "    conn = sqlite3.connect('disaster_mgmt.db')\n",
        "    c = conn.cursor()\n",
        "    c.execute(\"INSERT INTO disaster_reports (disaster_type, location, risk_level, timestamp) VALUES (?, ?, ?, datetime('now'))\",\n",
        "              (disaster_type, location, risk_level))\n",
        "    conn.commit()\n",
        "    conn.close()\n",
        "\n",
        "# Management system runner\n",
        "def disaster_management_system():\n",
        "    init_db()\n",
        "    while True:\n",
        "        sensor_data = get_sensor_data()\n",
        "        disaster, risk = predict_disaster(sensor_data)\n",
        "        location = \"Chennai\"  # Example location\n",
        "\n",
        "        if disaster != \"None\":\n",
        "            print(f\"[ALERT] Potential {disaster} detected at {location} - Risk Level: {risk}\")\n",
        "            log_disaster(disaster, location, risk)\n",
        "        else:\n",
        "            print(\"[INFO] No disasters detected.\")\n",
        "\n",
        "        time.sleep(5)  # Repeat every 5 seconds (for demo)\n",
        "\n",
        "# Run the system\n",
        "if __name__ == \"__main__\":\n",
        "    disaster_management_system()"
      ]
    }
  ]
}